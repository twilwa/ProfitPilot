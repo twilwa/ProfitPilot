{
 "cells": [
  {
   "cell_type": "code",
   "execution_count": null,
   "metadata": {},
   "outputs": [],
   "source": [
    "!git clone https://github.com/kyegomez/ProfitPilot.git\n",
    "%cd ProfitPilot\n",
    "!pip3 install -r requirements.txt\n",
    "!python3 example.py"
   ]
  }
 ],
 "metadata": {
  "language_info": {
   "name": "python"
  },
  "orig_nbformat": 4
 },
 "nbformat": 4,
 "nbformat_minor": 2
}
